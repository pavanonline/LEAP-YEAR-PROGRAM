{
  "nbformat": 4,
  "nbformat_minor": 0,
  "metadata": {
    "colab": {
      "provenance": []
    },
    "kernelspec": {
      "name": "python3",
      "display_name": "Python 3"
    },
    "language_info": {
      "name": "python"
    }
  },
  "cells": [
    {
      "cell_type": "code",
      "execution_count": null,
      "metadata": {
        "id": "pxCXalO9kCHi"
      },
      "outputs": [],
      "source": [
        "#Input a year and find whether it is a leap year or not.\n",
        "\n",
        "def year(x):\n",
        "  if x%4==0:\n",
        "    return \"It is a leapyear\"\n",
        "  else:\n",
        "    return \"Not a Leapyear\""
      ]
    },
    {
      "cell_type": "code",
      "source": [
        "year(2002)"
      ],
      "metadata": {
        "colab": {
          "base_uri": "https://localhost:8080/",
          "height": 36
        },
        "id": "9wGbgSwkkK2b",
        "outputId": "ebf3eb47-a8f7-4056-967b-5b55e517b6b0"
      },
      "execution_count": null,
      "outputs": [
        {
          "output_type": "execute_result",
          "data": {
            "text/plain": [
              "'Not a Leapyear'"
            ],
            "application/vnd.google.colaboratory.intrinsic+json": {
              "type": "string"
            }
          },
          "metadata": {},
          "execution_count": 11
        }
      ]
    },
    {
      "cell_type": "code",
      "source": [],
      "metadata": {
        "id": "N7R31GItk2_L"
      },
      "execution_count": null,
      "outputs": []
    }
  ]
}